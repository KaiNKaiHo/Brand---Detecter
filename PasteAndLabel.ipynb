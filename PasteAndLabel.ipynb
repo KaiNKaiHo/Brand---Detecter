{
 "cells": [
  {
   "cell_type": "markdown",
   "id": "ae209ac9",
   "metadata": {},
   "source": [
    "Thư viện dùng"
   ]
  },
  {
   "cell_type": "code",
   "execution_count": 18,
   "id": "e0a11c4c",
   "metadata": {},
   "outputs": [],
   "source": [
    "from PIL import Image, ImageDraw, ImageFilter\n",
    "import string\n",
    "import random\n",
    "import math\n",
    "import os\n",
    "import pandas as pd\n",
    "import imageio.v2 as imageio\n",
    "import matplotlib.pyplot as plt\n",
    "%matplotlib inline"
   ]
  },
  {
   "cell_type": "markdown",
   "id": "fca57566",
   "metadata": {},
   "source": [
    "Biến toàn cục"
   ]
  },
  {
   "cell_type": "code",
   "execution_count": null,
   "id": "a2001b31",
   "metadata": {},
   "outputs": [],
   "source": []
  },
  {
   "cell_type": "code",
   "execution_count": 19,
   "id": "02d237e6",
   "metadata": {},
   "outputs": [],
   "source": [
    "def renLogo(background : Image, logo : Image , traindir : string, x : int, y : int, name_file : int) :\n",
    "    '''\n",
    "    Ren ảnh:\n",
    "    ---------\n",
    "    Param:\n",
    "    - background, logo: ảnh để Ren\n",
    "    - traindir: folder để save ảnh Ren\n",
    "    - x, y: tọa độ đặt ảnh logo ngẫu nhiên trên background\n",
    "    - name_file: tên ảnh (đánh số từ 0 đến n)\n",
    "    '''\n",
    "    renLogo = background.copy()\n",
    "    renLogo.paste(logo, (x,y))\n",
    "    renLogo.save(traindir + \"/\" + str(name_file) +  \".jpg\", quality = 95) #Lưu vào ảnh có path: 'traindir/{name_file}.jpg'"
   ]
  },
  {
   "cell_type": "code",
   "execution_count": 28,
   "id": "16bb47c4",
   "metadata": {},
   "outputs": [],
   "source": [
    "def new_label(x : int, y: int, logo_height : int, logo_width : int, newlabel: string, name_file : string, brand : string):\n",
    "    '''\n",
    "    Gan label + ghi vao tep txt\n",
    "    -------------------------\n",
    "    Input:\n",
    "    - original_label: path file txt where you store label\n",
    "    - labeldir: path file txt where you want to store label for LogoRen (should create a txt file to store)\n",
    "    - x, y: distant of place where logo paste to background\n",
    "    - name_file: name Logo paste above background\n",
    "    Output:\n",
    "    - write (name_picture, brand_picture, label_number, x_min, y_min, x_max, y_max) to laberdir \n",
    "    '''\n",
    "    picture_name = str(name_file) + \".jpg\"\n",
    "    picture_brand = brand\n",
    "    x_min = x\n",
    "    y_min = y\n",
    "    x_max = logo_height + x\n",
    "    y_max = logo_width + y\n",
    "    \n",
    "    with open(newlabel,'a') as file_w:   \n",
    "        l = picture_name + \" \" + picture_brand  + \" \" + str(x_min) + \" \" + str(y_min) + \" \" + str(x_max) + \" \" + str(y_max) + \"\\n\"\n",
    "        '''\n",
    "        Ex: 0.png    Highland    x_min   y_min   x_max   y_max \n",
    "        '''\n",
    "        file_w.write(l)           \n",
    "        file_w.close()"
   ]
  },
  {
   "cell_type": "code",
   "execution_count": 29,
   "id": "592db322",
   "metadata": {},
   "outputs": [],
   "source": [
    "def create_train_example(background : Image, logo : Image , traindir : string, newlable : string, brand : string, name_file : int):\n",
    "    \"\"\"\n",
    "    Chèn logo vào ảnh\n",
    "    Param\n",
    "    ----------------\n",
    "    - traindir: đường dẫn đến folder để tạo ảnh \n",
    "    - background: ảnh background\n",
    "    - logo: ảnh logo cần chèn\n",
    "    - newlable: đường dẫn đến folder để tạo label\n",
    "    - name_file: ten ảnh\n",
    "    - brand: tên brand\n",
    "    \"\"\"\n",
    "    \n",
    "    bg_height,bg_width = background.size\n",
    "    logo_height,logo_width = logo.size\n",
    "    x = 0\n",
    "    y = 0\n",
    "    #Only paste when Logo smaller than background\n",
    "    if (logo_height < bg_height) and (logo_width < bg_width):\n",
    "        y = random.randint(0, bg_width - logo_width)\n",
    "        x = random.randint(0, bg_height - logo_height)\n",
    "        \n",
    "        renLogo(background, logo, traindir, x, y, name_file)\n",
    "        new_label(x, y, logo_height, logo_width, newlabel, name_file, brand)\n",
    "    else:\n",
    "        return \"Errol\""
   ]
  },
  {
   "cell_type": "code",
   "execution_count": 30,
   "id": "86b98ff0",
   "metadata": {},
   "outputs": [],
   "source": [
    "def main():\n",
    "    path_background = \"D:/Cuong/download/pasteImg/rocket.jpg\"\n",
    "    path_logo = \"D:/Cuong/download/pasteImg/lena.jpg\"\n",
    "    background = Image.open(path_background, 'r')\n",
    "    logo = Image.open(path_logo, 'r')\n",
    "    brand = \"HighLand\"\n",
    "    traindir = 'traindir'\n",
    "    newlabel = \"newlabel.txt\"\n",
    "    name_file = 0\n",
    "    create_train_example(background, logo, traindir, newlabel, brand, name_file)\n",
    "    name_file += 1\n",
    "    create_train_example(background, logo, traindir, newlabel, brand, name_file)"
   ]
  },
  {
   "cell_type": "code",
   "execution_count": 31,
   "id": "56229c6c",
   "metadata": {},
   "outputs": [],
   "source": [
    "main()"
   ]
  },
  {
   "cell_type": "code",
   "execution_count": 13,
   "id": "68c41e1e",
   "metadata": {},
   "outputs": [
    {
     "data": {
      "text/plain": [
       "(400, 225)"
      ]
     },
     "execution_count": 13,
     "metadata": {},
     "output_type": "execute_result"
    }
   ],
   "source": [
    "logo.size"
   ]
  },
  {
   "cell_type": "code",
   "execution_count": 14,
   "id": "cf2bb60d",
   "metadata": {},
   "outputs": [
    {
     "data": {
      "text/plain": [
       "(640, 427)"
      ]
     },
     "execution_count": 14,
     "metadata": {},
     "output_type": "execute_result"
    }
   ],
   "source": [
    "background.size"
   ]
  },
  {
   "cell_type": "code",
   "execution_count": null,
   "id": "5c5062ea",
   "metadata": {},
   "outputs": [],
   "source": []
  }
 ],
 "metadata": {
  "kernelspec": {
   "display_name": "Python 3 (ipykernel)",
   "language": "python",
   "name": "python3"
  },
  "language_info": {
   "codemirror_mode": {
    "name": "ipython",
    "version": 3
   },
   "file_extension": ".py",
   "mimetype": "text/x-python",
   "name": "python",
   "nbconvert_exporter": "python",
   "pygments_lexer": "ipython3",
   "version": "3.9.13"
  }
 },
 "nbformat": 4,
 "nbformat_minor": 5
}
